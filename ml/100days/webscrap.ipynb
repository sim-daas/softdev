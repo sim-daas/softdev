{
 "cells": [
  {
   "cell_type": "code",
   "execution_count": 1,
   "metadata": {},
   "outputs": [],
   "source": [
    "import numpy as np\n",
    "import pandas as pd\n",
    "from bs4 import BeautifulSoup as bs\n",
    "import requests "
   ]
  },
  {
   "cell_type": "code",
   "execution_count": 2,
   "metadata": {},
   "outputs": [],
   "source": [
    "headers= {'User-Agent': 'Mozilla/5.0 (Windows NT 10.0; Win64; x64) AppleWebKit/537.36 (KHTML, like Gecko) Chrome/58.0.3029.110 Safari/537.3'}\n",
    "url=\"https://hurawatch.cc/search/marvel\"\n",
    "page = requests.get(url, headers=headers)\n",
    "page = page.text\n",
    "page = bs(page, 'html.parser')\n"
   ]
  },
  {
   "cell_type": "code",
   "execution_count": 3,
   "metadata": {},
   "outputs": [
    {
     "data": {
      "text/plain": [
       "<div class=\"film-detail\">\n",
       "<h2 class=\"film-name\"><a href=\"/tv/watch-ms-marvel-online-78142\" title=\"Ms. Marvel\">Ms. Marvel</a>\n",
       "</h2>\n",
       "<div class=\"fd-infor\">\n",
       "<span class=\"fdi-item\">SS 1</span>\n",
       "<span class=\"dot\"></span>\n",
       "<span class=\"fdi-item\">EPS 6</span>\n",
       "<span class=\"float-right fdi-type\">TV</span>\n",
       "</div>\n",
       "<div class=\"clearfix\"></div>\n",
       "</div>"
      ]
     },
     "execution_count": 3,
     "metadata": {},
     "output_type": "execute_result"
    }
   ],
   "source": [
    "\n",
    "page.find_all('div', class_='film-detail')[0]"
   ]
  },
  {
   "cell_type": "code",
   "execution_count": 4,
   "metadata": {},
   "outputs": [
    {
     "name": "stdout",
     "output_type": "stream",
     "text": [
      "movie name  Ms. Marvel\n",
      "['TV']\n",
      "season  SS 1\n",
      "movie name  Captain Marvel\n",
      "['Movie']\n",
      "movie name  Marvel Studios Legends\n",
      "['TV']\n",
      "season  SS 2\n",
      "movie name  Marvel Rising: Initiation\n",
      "['TV']\n",
      "season  SS 1\n",
      "movie name  Marvel Studios: Assembled\n",
      "['TV']\n",
      "season  SS 2\n",
      "movie name  Marvel Super Hero Adventures\n",
      "['TV']\n",
      "season  SS 1\n",
      "movie name  Marvel Rising: Operation Shuri\n",
      "['Movie']\n",
      "movie name  Marvel Rising: Secret Warriors\n",
      "['Movie']\n",
      "movie name  Marvel Rising: Chasing Ghosts\n",
      "['Movie']\n",
      "movie name  Marvel Rising: Heart of Iron\n",
      "['Movie']\n",
      "movie name  LEGO Marvel Avengers: Code Red\n",
      "['Movie']\n",
      "movie name  LEGO Marvel Avengers: Climate Conundrum\n",
      "['TV']\n",
      "season  SS 1\n",
      "movie name  Marvel Studios: Expanding the Universe\n",
      "['Movie']\n",
      "movie name  Marvel One-Shot: The Consultant\n",
      "['Movie']\n",
      "movie name  Marvel Studios: Assembling a Universe\n",
      "['Movie']\n",
      "movie name  Marvel One-Shot: Item 47\n",
      "['Movie']\n",
      "movie name  Marvel One-Shot: Agent Carter\n",
      "['Movie']\n",
      "movie name  Marvel Rising: Playing with Fire\n",
      "['Movie']\n",
      "movie name  LEGO Marvel Avengers: Mission Demolition\n",
      "['Movie']\n",
      "movie name  Marvel Rising: Battle of the Bands\n",
      "['Movie']\n",
      "movie name  Marvel Super Hero Adventures: Frost Fight!\n",
      "['Movie']\n",
      "movie name  LEGO Marvel Super Heroes: Avengers Reassembled!\n",
      "['Movie']\n",
      "movie name  Marvel One-Shot: All Hail the King\n",
      "['Movie']\n",
      "movie name  Pokémon the Movie: Volcanion and the Mechanical Marvel\n",
      "['Movie']\n",
      "movie name  Marvel One-Shot: A Funny Thing Happened on the Way to Thor's Hammer\n",
      "['Movie']\n",
      "movie name  Marvel's Moon Girl and Devil Dinosaur\n",
      "['TV']\n",
      "season  SS 1\n",
      "movie name  Marvellous\n",
      "['Movie']\n",
      "movie name  Marvel's Hit-Monkey\n",
      "['TV']\n",
      "season  SS 2\n",
      "movie name  The Marvelous Mrs. Shenkman\n",
      "['Movie']\n",
      "movie name  Superstructures: Engineering Marvels\n",
      "['TV']\n",
      "season  SS 1\n",
      "movie name  Marvelous and the Black Hole\n",
      "['Movie']\n",
      "movie name  Dark Marvels\n",
      "['TV']\n",
      "season  SS 1\n"
     ]
    }
   ],
   "source": [
    "for i in page.find_all('div', class_='film-detail'):\n",
    "    print(\"movie name \", i.find('h2').text.strip())\n",
    "    print(i.find(\"span\", class_='float-right fdi-type').text.split())\n",
    "    if i.find(\"span\", class_='float-right fdi-type').text.split() == ['MOVIE']:\n",
    "        print(\"duration \", i.find('span', class_='fdi-item fdi-duration'))\n",
    "    elif i.find('span', class_='float-right fdi-type').text.split() == ['TV']:\n",
    "        print(\"season \", i.find('span', class_= \"fdi-item\").text.strip())\n",
    "    else:\n",
    "        pass\n",
    "    #print('\\n')\n"
   ]
  },
  {
   "cell_type": "code",
   "execution_count": null,
   "metadata": {},
   "outputs": [],
   "source": []
  }
 ],
 "metadata": {
  "kernelspec": {
   "display_name": "test",
   "language": "python",
   "name": "python3"
  },
  "language_info": {
   "codemirror_mode": {
    "name": "ipython",
    "version": 3
   },
   "file_extension": ".py",
   "mimetype": "text/x-python",
   "name": "python",
   "nbconvert_exporter": "python",
   "pygments_lexer": "ipython3",
   "version": "3.12.4"
  }
 },
 "nbformat": 4,
 "nbformat_minor": 2
}
